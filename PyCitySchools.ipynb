{
 "cells": [
  {
   "cell_type": "code",
   "execution_count": null,
   "metadata": {},
   "outputs": [],
   "source": [
    "# Dependencies\n",
    "import pandas as pd\n",
    "import mumpy as np\n",
    "import os"
   ]
  },
  {
   "cell_type": "code",
   "execution_count": null,
   "metadata": {},
   "outputs": [],
   "source": [
    "school_data_to_load = \"Resources/schools_complete.csv\"\n",
    "student_data_to_load = \"Resources/students_complete.csv\""
   ]
  },
  {
   "cell_type": "code",
   "execution_count": null,
   "metadata": {},
   "outputs": [],
   "source": [
    "school_data = pd.read_csv(school_data_to_load)\n",
    "student_data = pd.read_csv(student_data_to_load)"
   ]
  },
  {
   "cell_type": "code",
   "execution_count": null,
   "metadata": {},
   "outputs": [],
   "source": [
    "school_names = schools_df[\"Huang High School\", \"Figueroa High School\",\"Shelton High School\", \"Hernandez High School\",\"Wilson High School\", \"Griffin High School\",\"Cabrera High School\", \"Bailey High School\",\"Holden High School\", \"Pena High School\",\"Wright High School\", \"Rodriguez High School\",\"Johnson High School\", \"Ford High School\",\"Thomas High Schoo\",]"
   ]
  },
  {
   "cell_type": "code",
   "execution_count": null,
   "metadata": {},
   "outputs": [],
   "source": [
    "school_data_complete = pd.merge(student_data, school_data, how=\"left\", on=[\"Huang High School\", \"Figueroa High School\",\"Shelton High School\", \"Hernandez High School\",\"Wilson High School\", \"Griffin High School\",\"Cabrera High School\", \"Bailey High School\",\"Holden High School\", \"Pena High School\",\"Wright High School\", \"Rodriguez High School\",\"Johnson High School\", \"Ford High School\",\"Thomas High Schoo\", ])\n",
    "district_summary = pd.DataFrame({\n",
    "    \n",
    "    \"Total Schools\": [15],\n",
    "    \"Total Students\": [39,170],\n",
    "    \"Total Budget\": [$24,649,428.00],\n",
    "    \"Average Math Score\": [78.985371],\n",
    "    \"Average Reading Score\": [81.87784],\n",
    "    \"% Passing Math\":[74.980853],\n",
    "    \"% Passing Reading\": [85.805463],\n",
    "    \"Overall Passing Rate\": [65.172326]})\n"
   ]
  },
  {
   "cell_type": "code",
   "execution_count": null,
   "metadata": {},
   "outputs": [],
   "source": []
  },
  {
   "cell_type": "code",
   "execution_count": null,
   "metadata": {},
   "outputs": [],
   "source": []
  }
 ],
 "metadata": {
  "kernelspec": {
   "display_name": "Python 3",
   "language": "python",
   "name": "python3"
  },
  "language_info": {
   "codemirror_mode": {
    "name": "ipython",
    "version": 3
   },
   "file_extension": ".py",
   "mimetype": "text/x-python",
   "name": "python",
   "nbconvert_exporter": "python",
   "pygments_lexer": "ipython3",
   "version": "3.8.3"
  }
 },
 "nbformat": 4,
 "nbformat_minor": 4
}
