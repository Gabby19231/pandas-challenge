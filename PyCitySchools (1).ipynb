{
 "cells": [
  {
   "cell_type": "code",
   "execution_count": null,
   "metadata": {},
   "outputs": [],
   "source": [
    "# Dependencies\n",
    "import pandas as pd\n",
    "import numpy as np\n",
    "import os"
   ]
  },
  {
   "cell_type": "code",
   "execution_count": null,
   "metadata": {},
   "outputs": [],
   "source": [
    "school_data_to_load = \"Resources/schools_complete.csv\"\n",
    "student_data_to_load = \"Resources/students_complete.csv\""
   ]
  },
  {
   "cell_type": "code",
   "execution_count": null,
   "metadata": {},
   "outputs": [],
   "source": [
    "school_data = pd.read_csv(school_data_to_load)\n",
    "student_data = pd.read_csv(student_data_to_load)"
   ]
  },
  {
   "cell_type": "code",
   "execution_count": null,
   "metadata": {},
   "outputs": [],
   "source": [
    "school_names = schools_df[\"Huang High School\", \"Figueroa High School\",\"Shelton High School\", \"Hernandez High School\",\"Wilson High School\", \"Griffin High School\",\"Cabrera High School\", \"Bailey High School\",\"Holden High School\", \"Pena High School\",\"Wright High School\", \"Rodriguez High School\",\"Johnson High School\", \"Ford High School\",\"Thomas High Schoo\",]"
   ]
  },
  {
   "cell_type": "code",
   "execution_count": null,
   "metadata": {},
   "outputs": [],
   "source": [
    "students_df = pd.read_csv(students_file)"
   ]
  },
  {
   "cell_type": "code",
   "execution_count": null,
   "metadata": {},
   "outputs": [],
   "source": [
    "school_data_complete = pd.merge(student_data, school_data, how=\"left\", on=[\"school_name\", \"school_name\"])"
   ]
  },
  {
   "cell_type": "code",
   "execution_count": 7,
   "metadata": {},
   "outputs": [
    {
     "ename": "NameError",
     "evalue": "name 'pd' is not defined",
     "output_type": "error",
     "traceback": [
      "\u001b[1;31m---------------------------------------------------------------------------\u001b[0m",
      "\u001b[1;31mNameError\u001b[0m                                 Traceback (most recent call last)",
      "\u001b[1;32m<ipython-input-7-c771b7d2795d>\u001b[0m in \u001b[0;36m<module>\u001b[1;34m\u001b[0m\n\u001b[1;32m----> 1\u001b[1;33m district_summary = pd.DataFrame({\n\u001b[0m\u001b[0;32m      2\u001b[0m \u001b[1;33m\u001b[0m\u001b[0m\n\u001b[0;32m      3\u001b[0m     \u001b[1;34m\"Total Schools\"\u001b[0m\u001b[1;33m:\u001b[0m \u001b[1;33m[\u001b[0m\u001b[1;36m15\u001b[0m\u001b[1;33m]\u001b[0m\u001b[1;33m,\u001b[0m\u001b[1;33m\u001b[0m\u001b[1;33m\u001b[0m\u001b[0m\n\u001b[0;32m      4\u001b[0m     \u001b[1;34m\"Total Students\"\u001b[0m\u001b[1;33m:\u001b[0m \u001b[1;33m[\u001b[0m\u001b[1;36m39\u001b[0m\u001b[1;33m,\u001b[0m\u001b[1;36m170\u001b[0m\u001b[1;33m]\u001b[0m\u001b[1;33m,\u001b[0m\u001b[1;33m\u001b[0m\u001b[1;33m\u001b[0m\u001b[0m\n\u001b[0;32m      5\u001b[0m     \u001b[1;34m\"Total Budget\"\u001b[0m\u001b[1;33m:\u001b[0m \u001b[1;33m[\u001b[0m\u001b[1;36m24\u001b[0m\u001b[1;33m,\u001b[0m\u001b[1;36m649\u001b[0m\u001b[1;33m,\u001b[0m\u001b[1;36m428\u001b[0m\u001b[1;33m]\u001b[0m\u001b[1;33m,\u001b[0m\u001b[1;33m\u001b[0m\u001b[1;33m\u001b[0m\u001b[0m\n",
      "\u001b[1;31mNameError\u001b[0m: name 'pd' is not defined"
     ]
    }
   ],
   "source": [
    "district_summary = pd.DataFrame({\n",
    "    \n",
    "    \"Total Schools\": [15],\n",
    "    \"Total Students\": [39,170],\n",
    "    \"Total Budget\": [24,649,428],\n",
    "    \"Average Math Score\": [78.985371],\n",
    "    \"Average Reading Score\": [81.87784],\n",
    "    \"% Passing Math\":[74.980853],\n",
    "    \"% Passing Reading\": [85.805463],\n",
    "    \"Overall Passing Rate\": [65.172326]})\n"
   ]
  },
  {
   "cell_type": "code",
   "execution_count": null,
   "metadata": {},
   "outputs": [],
   "source": []
  },
  {
   "cell_type": "code",
   "execution_count": null,
   "metadata": {},
   "outputs": [],
   "source": [
    "school_names = schools_df[\"Huang High School\", \"Figueroa High School\",\"Shelton High School\", \"Hernandez High School\",\"Wilson High School\", \"Griffin High School\",\"Cabrera High School\", \"Bailey High School\",\"Holden High School\", \"Pena High School\",\"Wright High School\", \"Rodriguez High School\",\"Johnson High School\", \"Ford High School\",\"Thomas High Schoo\",]\n",
    "sch_summary = pd.DataFrame({\n",
    "    \"School Type\": [District, Charter, District, District, Chater, District, Charter, District, District, Charter, District, Charter, Chater, Charter, Chater]\n",
    "    \"Total Students\": [4976, 1858, 2949, 2739, 1468, 4635, 427, 2917, 4761, 962, 3999, 1761, 1635, 2283, 1800]\n",
    "    \"Per Student Budget\": [, $583.00]\n",
    "    \"Total School Budget\": [$3,124,928.00, $1,081,356.00, $1,884,411.00, $1,763,916.00, $917,500.00, $3,022,020.00, $248,087.00, $1,910,635.00, $3,094,650.00, $585,858.00, $2,547,363.00, $1,056,600.00, $1,043,130.00, $1,319,574.00, $1,049,400.00]\n",
    "    \"Average Math Score\": avg_math,\n",
    "    \"Average Reading Score\": avg_read,\n",
    "    '% Passing Math': pass_math,\n",
    "    '% Passing Reading': pass_read,\n",
    "    \"Overall Passing Rate\": overall\n",
    "})\n",
    "school_data_complete = pd.merge(student_data, school_data, how=\"left\", on=[\"school_name\", \"school_name\"])"
   ]
  }
 ],
 "metadata": {
  "kernelspec": {
   "display_name": "Python 3",
   "language": "python",
   "name": "python3"
  },
  "language_info": {
   "codemirror_mode": {
    "name": "ipython",
    "version": 3
   },
   "file_extension": ".py",
   "mimetype": "text/x-python",
   "name": "python",
   "nbconvert_exporter": "python",
   "pygments_lexer": "ipython3",
   "version": "3.8.3"
  }
 },
 "nbformat": 4,
 "nbformat_minor": 4
}
